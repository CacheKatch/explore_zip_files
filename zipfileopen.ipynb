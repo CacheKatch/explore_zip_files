{
 "metadata": {
  "language_info": {
   "codemirror_mode": {
    "name": "ipython",
    "version": 3
   },
   "file_extension": ".py",
   "mimetype": "text/x-python",
   "name": "python",
   "nbconvert_exporter": "python",
   "pygments_lexer": "ipython3",
   "version": "3.8.3-final"
  },
  "orig_nbformat": 2,
  "kernelspec": {
   "name": "python3",
   "display_name": "Python 3"
  }
 },
 "nbformat": 4,
 "nbformat_minor": 2,
 "cells": [
  {
   "cell_type": "code",
   "execution_count": 1,
   "metadata": {},
   "outputs": [],
   "source": [
    "from zipfile import ZipFile\n",
    "import os\n",
    "\n",
    "# Open zipfile\n",
    "#zip_filename = \"../data/zipped_data/crop0919.zip\"\n",
    "#my_outputpath = Path('../data/raw_data/corn0919.csv')\n",
    "\n",
    "#with ZipFile(zip_filename,'r') as zip:\n",
    "    #print (type(zip.printdir()))\n",
    "    #print (zip.namelist())\n",
    "    #zip.extract('crop_p07_t139.csv')\n",
    "    #aa=zip.read('crop_p07_t139.csv')\n",
    "    #print(aa)\n",
    "    #with open(my_outputpath, 'w') as csvfile:\n",
    "     #   csvwriter = csv.writer(csvfile)\n",
    "      #  csvwriter.writerow(aa)\n",
    "\n",
    "# Read csv files to get forecast\n",
    "#os.rename(r'crop_p07_t139.csv',r'corn0919.csv')"
   ]
  },
  {
   "cell_type": "code",
   "execution_count": null,
   "metadata": {},
   "outputs": [],
   "source": []
  }
 ]
}